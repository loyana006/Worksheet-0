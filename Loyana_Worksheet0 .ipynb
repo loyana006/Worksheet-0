{
 "cells": [
  {
   "cell_type": "code",
   "execution_count": null,
   "id": "077dce0c-2736-4c81-baca-940a2cd5b9ed",
   "metadata": {},
   "outputs": [],
   "source": [
    "#LoyanaParajuli_StudenriD:2414972"
   ]
  },
  {
   "cell_type": "code",
   "execution_count": null,
   "id": "c9dccf0d-76bf-4071-b191-ec0c3f2614a4",
   "metadata": {},
   "outputs": [],
   "source": [
    "#Warm up excercise"
   ]
  },
  {
   "cell_type": "code",
   "execution_count": 10,
   "id": "fc9ecc34-dc44-4f8a-ada9-188b9f74886c",
   "metadata": {},
   "outputs": [
    {
     "name": "stdout",
     "output_type": "stream",
     "text": [
      "Cold: [8.2, 7.9, 9.0, 8.5, 7.7, 8.4, 9.5, 8.1, 7.6, 8.0, 7.8, 8.7, 9.2, 8.3, 8.9, 7.8]\n",
      "Mild: [14.1, 13.5, 13.0, 12.9, 13.3, 14.0, 13.4, 14.2, 12.8, 13.7, 13.6, 13.8, 13.9, 12.7, 13.1, 12.5]\n",
      "Comfortable: [17.4, 18.0, 17.8, 16.5, 17.2, 16.7, 18.3, 17.9, 17.0, 16.8, 17.5, 17.1, 18.1, 16.4, 18.2, 16.6]\n"
     ]
    }
   ],
   "source": [
    "#Task-1 Temperature Classification\n",
    "#List of reading from the sample data provided\n",
    "temperatures = [8.2, 17.4, 14.1, 7.9, 18.0, 13.5, 9.0, 17.8, 13.0, 8.5,\n",
    "                16.5, 12.9, 7.7, 17.2, 13.3, 8.4, 16.7, 14.0, 9.5, 18.3, 13.4, 8.1,\n",
    "                17.9, 14.2, 7.6, 17.0, 12.8, 8.0, 16.8, 13.7, 7.8, 17.5, 13.6, 8.7,\n",
    "                17.1, 13.8, 9.2, 18.1, 13.9, 8.3, 16.4, 12.7, 8.9, 18.2, 13.1, 7.8,\n",
    "                16.6, 12.5]\n",
    "\n",
    "\n",
    "cold = []\n",
    "mild = []\n",
    "comfortable = []\n",
    "\n",
    "# Classify the temperatures\n",
    "for temp in temperatures:\n",
    "    if temp < 10:\n",
    "        cold.append(temp)\n",
    "    elif 10 <= temp <= 15:\n",
    "        mild.append(temp)\n",
    "    else:\n",
    "        comfortable.append(temp)\n",
    "\n",
    "print(\"Cold:\", cold)\n",
    "print(\"Mild:\", mild)\n",
    "print(\"Comfortable:\", comfortable)\n"
   ]
  },
  {
   "cell_type": "code",
   "execution_count": 11,
   "id": "c64fb6a2-2021-40aa-b50d-dc67cbecb1e3",
   "metadata": {},
   "outputs": [
    {
     "name": "stdout",
     "output_type": "stream",
     "text": [
      "Cold days count: 16\n",
      "Mild days count: 16\n",
      "Comfortable days count: 16\n"
     ]
    }
   ],
   "source": [
    "#Task-2 Count Instances\n",
    "#Based on the data count instances in each category and print the results\n",
    "\n",
    "print(\"Cold days count:\", len(cold))\n",
    "print(\"Mild days count:\", len(mild))\n",
    "print(\"Comfortable days count:\", len(comfortable))\n",
    "\n"
   ]
  },
  {
   "cell_type": "code",
   "execution_count": 12,
   "id": "7bd9eb36-6a41-4d9e-9709-212042ea80fe",
   "metadata": {},
   "outputs": [
    {
     "name": "stdout",
     "output_type": "stream",
     "text": [
      "Temperatures in Fahrenheit: [46.76, 63.32, 57.379999999999995, 46.22, 64.4, 56.3, 48.2, 64.04, 55.4, 47.3, 61.7, 55.22, 45.86, 62.959999999999994, 55.94, 47.120000000000005, 62.059999999999995, 57.2, 49.1, 64.94, 56.120000000000005, 46.58, 64.22, 57.56, 45.68, 62.6, 55.04, 46.4, 62.24, 56.66, 46.04, 63.5, 56.48, 47.66, 62.78, 56.84, 48.56, 64.58, 57.02, 46.94, 61.519999999999996, 54.86, 48.02, 64.75999999999999, 55.58, 46.04, 61.88, 54.5]\n"
     ]
    }
   ],
   "source": [
    "#Task-3 Convert Temperatures from Celsius to Fahrenheit\n",
    "# Convert the list of temperatures from Celsius to Fahrenheit using the formula:\n",
    "# Fahrenheit = (Celsius * 9/5) + 32\n",
    "# Using list comprehension for efficiency and compact code\n",
    "temperatures_fahrenheit = [(temp * 9/5) + 32 for temp in temperatures]\n",
    "# Display the converted temperatures in Fahrenheit for verification\n",
    "print(\"Temperatures in Fahrenheit:\", temperatures_fahrenheit)"
   ]
  },
  {
   "cell_type": "code",
   "execution_count": 13,
   "id": "dca82820-20d1-4d6b-a6d5-871496b9714e",
   "metadata": {},
   "outputs": [
    {
     "name": "stdout",
     "output_type": "stream",
     "text": [
      "Average day-time temperature: 13.40625\n"
     ]
    }
   ],
   "source": [
    "#Task-4 Analyze Temperature Patterns by Time of Day\n",
    "# Split the temperatures into groups based on the time of day\n",
    "# Night: 00-08, Evening: 08-16, Day: 16-24\n",
    "# Each day has 3 readings, so we slice the list accordingly\n",
    "night_temps = temperatures[::3]# Take every 3rd temperature starting at index 0 for night\n",
    "evening_temps = temperatures[1::3]# Take every 3rd temperature starting at index 1 for evening\n",
    "day_temps = temperatures[2::3]# Take every 3rd temperature starting at index 2 for day\n",
    "# Calculate the average temperature during the day using sum() and len().\n",
    "# This gives an idea of how warm or cold the days were on average.\n",
    "average_day_temp = sum(day_temps) / len(day_temps)\n",
    "print(\"Average day-time temperature:\", average_day_temp)\n",
    "\n",
    "\n"
   ]
  },
  {
   "cell_type": "code",
   "execution_count": null,
   "id": "b66ed351-37f9-4a3f-a549-38654d0d4afb",
   "metadata": {},
   "outputs": [],
   "source": [
    "#Recursion Exercises"
   ]
  },
  {
   "cell_type": "code",
   "execution_count": 14,
   "id": "007a6259-2f0d-40f3-8218-d7c64eaf1cbc",
   "metadata": {},
   "outputs": [
    {
     "name": "stdout",
     "output_type": "stream",
     "text": [
      "Sum of nested list: 36\n"
     ]
    }
   ],
   "source": [
    "#Task-1 Sum of Nested Lists\n",
    "# Define a recursive function to calculate the sum of numbers in a nested list.\n",
    "# The list may contain integers or other nested lists of integers.\n",
    "def sum_nested_list(nested_list):\n",
    "    total = 0 # Initialize the total sum to zero\n",
    "    # Loop through each element in the list\n",
    "    for element in nested_list:\n",
    "        if isinstance(element, list):# Check if the element is a nested list\n",
    "            # If it is a nested list, call the function recursively to sum its elements\n",
    "            total += sum_nested_list(element)\n",
    "        else:\n",
    "            # If it is an integer, add it directly to the total\n",
    "            total += element\n",
    "    return total# Return the total sum\n",
    "\n",
    "#Test the function\n",
    "nested_list = [1, [2, [3, 4], 5], 6, [7, 8]]\n",
    "print(\"Sum of nested list:\", sum_nested_list(nested_list))\n",
    "\n"
   ]
  },
  {
   "cell_type": "code",
   "execution_count": 15,
   "id": "815354b9-de67-42a9-ae84-e04a3f8bfe89",
   "metadata": {},
   "outputs": [
    {
     "name": "stdout",
     "output_type": "stream",
     "text": [
      "Permutations of 'abc': ['acb', 'bca', 'abc', 'cab', 'bac', 'cba']\n"
     ]
    }
   ],
   "source": [
    "#Task-2 Generate Permutations of a String\n",
    "# Define a recursive function to generate all permutations of a string.\n",
    "# Permutations are all possible arrangements of the characters in the string.\n",
    "def generate_permutations(s):\n",
    "    if len(s) == 1:# Base case: If the string has only one character, return it as a single permutation\n",
    "        return [s]\n",
    "    perms = []# Initialize an empty list to store permutations\n",
    "\n",
    "    # Loop through each character in the string\n",
    "    for i, char in enumerate(s):\n",
    "        # Generate permutations for the remaining characters by excluding the current character\n",
    "        for perm in generate_permutations(s[:i] + s[i+1:]):\n",
    "             # Append the current character to each of the smaller permutations\n",
    "            perms.append(char + perm)\n",
    "# Return the unique permutations\n",
    "    return list(set(perms))  \n",
    "#Testing the function\n",
    "print(\"Permutations of 'abc':\", generate_permutations(\"abc\"))\n",
    "\n"
   ]
  },
  {
   "cell_type": "code",
   "execution_count": 16,
   "id": "0fb2ada8-46ac-40e2-b41d-8bf5ac85c8e5",
   "metadata": {},
   "outputs": [
    {
     "name": "stdout",
     "output_type": "stream",
     "text": [
      "Total directory size: 1400\n"
     ]
    }
   ],
   "source": [
    "#Task-3 Directory Size Calculation\n",
    "#Recursive function to calculate directory size\n",
    "def calculate_directory_size(directory):\n",
    "    total_size = 0\n",
    "    for key, value in directory.items():\n",
    "        if isinstance(value, dict):\n",
    "            total_size += calculate_directory_size(value)\n",
    "        else:\n",
    "            total_size += value\n",
    "    return total_size\n",
    "\n",
    "\n",
    "# Testing with sample directory structure\n",
    "directory_structure = {\n",
    "    \"file1.txt\": 200,\n",
    "    \"file2.txt\": 300,\n",
    "    \"subdir1\": {\n",
    "        \"file3.txt\": 400,\n",
    "        \"file4.txt\": 100\n",
    "    },\n",
    "    \"subdir2\": {\n",
    "        \"subsubdir1\": {\n",
    "            \"file5.txt\": 250\n",
    "        },\n",
    "        \"file6.txt\": 150\n",
    "    }\n",
    "}\n",
    "\n",
    "print(\"Total directory size:\", calculate_directory_size(directory_structure))\n"
   ]
  },
  {
   "cell_type": "code",
   "execution_count": null,
   "id": "1795377c-c987-433f-8373-e904ab0ba5ec",
   "metadata": {},
   "outputs": [],
   "source": [
    "#Dynamic Programming Exercises"
   ]
  },
  {
   "cell_type": "code",
   "execution_count": 17,
   "id": "59673414-16ff-4e54-8803-4cd31bf11882",
   "metadata": {},
   "outputs": [
    {
     "name": "stdout",
     "output_type": "stream",
     "text": [
      "Minimum coins for amount 11 with coins [1, 2, 5]: 3\n"
     ]
    }
   ],
   "source": [
    "#Task-1 Coin Change Problem\n",
    "# Define a function to solve the coin change problem using dynamic programming (DP).\n",
    "# The goal is to find the minimum number of coins needed to make up a given amount.\n",
    "def min_coins(coins, amount):\n",
    "    # Initialize a DP array where dp[i] represents the minimum coins needed for amount i.\n",
    "    # Use float('inf') to represent an impossible amount.\n",
    "    dp = [float('inf')] * (amount + 1)\n",
    "    dp[0] = 0 # Base case: No coins are needed to make amount 0\n",
    "\n",
    "    # Loop through each coin denomination\n",
    "    for coin in coins:\n",
    "        # Update the DP array for all amounts that can include the current coin\n",
    "        for i in range(coin, amount + 1):\n",
    "            dp[i] = min(dp[i], dp[i - coin] + 1)\n",
    "            \n",
    "    # Return the result for the target amount, or -1 if it's not possible to make the amount\n",
    "    return dp[amount] if dp[amount] != float('inf') else -1\n",
    "\n",
    "\n",
    "print(\"Minimum coins for amount 11 with coins [1, 2, 5]:\", min_coins([1, 2, 5], 11))\n"
   ]
  },
  {
   "cell_type": "code",
   "execution_count": 13,
   "id": "6f16a008-fe9d-4e88-bb1a-c3de5e7a55af",
   "metadata": {},
   "outputs": [
    {
     "name": "stdout",
     "output_type": "stream",
     "text": [
      "LCS length of 'abcde' and 'ace': 3\n"
     ]
    }
   ],
   "source": [
    "#Task-2 Longest Common Subsequence\n",
    "# Define a function to find the length of the longest common subsequence (LCS) of two strings.\n",
    "# LCS is the longest sequence of characters that appears in both strings in the same order.\n",
    "def longest_common_subsequence(s1, s2):\n",
    "    # Initialize a 2D DP table where dp[i][j] represents the LCS length for s1[:i] and s2[:j].\n",
    "    dp = [[0] * (len(s2) + 1) for _ in range(len(s1) + 1)]\n",
    "        # Fill the DP table\n",
    "    for i in range(1, len(s1) + 1):\n",
    "        for j in range(1, len(s2) + 1):\n",
    "            if s1[i - 1] == s2[j - 1]:#If characters match, increment the LCS length\n",
    "                dp[i][j] = dp[i - 1][j - 1] + 1\n",
    "                # Otherwise, take the maximum LCS length without one of the characters\n",
    "            else:\n",
    "                dp[i][j] = max(dp[i - 1][j], dp[i][j - 1])\n",
    "    return dp[-1][-1]\n",
    "# Test the function with a sample problem\n",
    "print(\"LCS length of 'abcde' and 'ace':\", longest_common_subsequence(\"abcde\", \"ace\"))\n"
   ]
  },
  {
   "cell_type": "code",
   "execution_count": 23,
   "id": "d6304482-4d29-4261-9082-cb5453a8a923",
   "metadata": {},
   "outputs": [
    {
     "name": "stdout",
     "output_type": "stream",
     "text": [
      "Maximum value for knapsack capacity 7: 9\n"
     ]
    }
   ],
   "source": [
    "#Task-3 0/1 Knapsack Problem\n",
    "# Define a function to solve the 0/1 Knapsack Problem using dynamic programming (DP).\n",
    "# The goal is to maximize the total value of items without exceeding the weight capacity.\n",
    "def knapsack(weights, values, capacity):\n",
    "    n = len(weights)\n",
    "     # Initialize a 2D DP table where dp[i][w] represents the max value for the first i items and weight limit w\n",
    "    dp = [[0] * (capacity + 1) for _ in range(n + 1)]\n",
    "    for i in range(1, n + 1):\n",
    "        for w in range(1, capacity + 1):\n",
    "            if weights[i - 1] <= w:\n",
    "                dp[i][w] = max(dp[i - 1][w], values[i - 1] + dp[i - 1][w - weights[i - 1]])\n",
    "            else:\n",
    "                dp[i][w] = dp[i - 1][w]\n",
    "    return dp[-1][-1]# Return the maximum value achievable within the capacity\n",
    "\n",
    "# Test the function with a sample problem\n",
    "weights = [1, 3, 4, 5]\n",
    "values = [1, 4, 5, 7]\n",
    "capacity = 7\n",
    "print(\"Maximum value for knapsack capacity 7:\", knapsack(weights, values, capacity))\n",
    "\n"
   ]
  },
  {
   "cell_type": "code",
   "execution_count": null,
   "id": "72e6d94d-a5fa-40c2-89c6-6095bbd7d981",
   "metadata": {},
   "outputs": [],
   "source": []
  }
 ],
 "metadata": {
  "kernelspec": {
   "display_name": "Python 3 (ipykernel)",
   "language": "python",
   "name": "python3"
  },
  "language_info": {
   "codemirror_mode": {
    "name": "ipython",
    "version": 3
   },
   "file_extension": ".py",
   "mimetype": "text/x-python",
   "name": "python",
   "nbconvert_exporter": "python",
   "pygments_lexer": "ipython3",
   "version": "3.13.0"
  }
 },
 "nbformat": 4,
 "nbformat_minor": 5
}
